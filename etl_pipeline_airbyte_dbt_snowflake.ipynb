{
 "cells": [
  {
   "cell_type": "markdown",
   "id": "c08559a0-e186-40f6-a68c-f0d3319bee2a",
   "metadata": {},
   "source": [
    "# Install DBT using Miniconda"
   ]
  },
  {
   "cell_type": "code",
   "execution_count": 22,
   "id": "f2432557-c20d-4b7b-8c15-8deefca99e11",
   "metadata": {},
   "outputs": [
    {
     "name": "stdout",
     "output_type": "stream",
     "text": [
      "/home/lthulasidhar/miniconda3/envs/p4-env/bin/dbt\n"
     ]
    }
   ],
   "source": [
    "!which dbt"
   ]
  },
  {
   "cell_type": "markdown",
   "id": "02358ed8",
   "metadata": {},
   "source": [
    "# Section 1: Setup environment "
   ]
  },
  {
   "cell_type": "markdown",
   "id": "33080327",
   "metadata": {},
   "source": [
    "Google sheets source:https://docs.google.com/spreadsheets/d/1EOykPOCrZB_l0wNlPSDpIC_JAWBRHRNofPJKyyooxV8/edit?gid=1807517008#gid=1807517008"
   ]
  },
  {
   "cell_type": "markdown",
   "id": "73c68b0f-94b6-467a-8b04-c7d849ec876f",
   "metadata": {},
   "source": [
    "# Use dbt to transform the column names to single word or two-word names with \"_\" separator and create a view named transform_survey."
   ]
  },
  {
   "cell_type": "code",
   "execution_count": 243,
   "id": "2d5f20e0-ab53-4715-b322-5376d10a8e04",
   "metadata": {},
   "outputs": [
    {
     "name": "stdout",
     "output_type": "stream",
     "text": [
      "p4_data_pipeline:\n",
      "  target: dev # default target; can be switched using --target option of dbt run\n",
      "  outputs:\n",
      "    dev:\n",
      "      type: snowflake\n",
      "      account: npdsfyv-gw12055   # Example: <account_name>.<region>.<cloud_provider>\n",
      "      user: LEKSHMI288\n",
      "      role: ACCOUNTADMIN\n",
      "      database: SURVEY_DATABASE \n",
      "      warehouse: P4_WAREHOUSE\n",
      "      schema: SURVEY_SCHEMA\n",
      "      threads: 10\n",
      "\n"
     ]
    }
   ],
   "source": [
    "!cat ~/.dbt/profiles.yml | grep -v 'password'"
   ]
  },
  {
   "cell_type": "code",
   "execution_count": 244,
   "id": "e1b65540-c6f6-4a4f-8149-a552bbbd1579",
   "metadata": {},
   "outputs": [
    {
     "name": "stdout",
     "output_type": "stream",
     "text": [
      "version: 2\n",
      "\n",
      "sources:\n",
      "  - name: survey_data\n",
      "    database: SURVEY_DATABASE\n",
      "    schema: SURVEY_SCHEMA\n",
      "    tables:\n",
      "      - name: SURVEY\n",
      "      - name: TRADING_BOOKS\n",
      "      - name: WEIGHTS_TABLE\n",
      "\n",
      "  \n",
      "\n",
      "\n"
     ]
    }
   ],
   "source": [
    "!cat ~/p4_data_pipeline/models/schema.yml"
   ]
  },
  {
   "cell_type": "code",
   "execution_count": 31,
   "id": "4e7d7dfa-eb30-49e4-8e5d-fac608b5735a",
   "metadata": {},
   "outputs": [
    {
     "name": "stdout",
     "output_type": "stream",
     "text": [
      "WITH raw_survey AS (\n",
      "    SELECT *\n",
      "    FROM {{source('survey_data', 'SURVEY')}}\n",
      "),\n",
      "\n",
      "survey_transformed AS (\n",
      "    SELECT\n",
      "        {{adapter.quote('TIMESTAMP') }} AS TIMESTAMP,\n",
      "        {{adapter.quote('EMAIL_ADDRESS') }} AS email,\n",
      "\t{{adapter.quote('WHAT_IS_YOUR_CURRENT_STANDING') }} AS current_standing,\n",
      "\t{{adapter.quote('WHICH_BEST_DESCRIBES_YOUR_PRIMARY_MAJOR_OR_FIELD_OF_STUDY_IF_YOU_HAVE_MORE_THAN_ONE_MAJOR_PLEASE_SPECIFY_OTHER_MAJORS_AS_PART_OF_THE_NEXT_QUESTION_') }} AS primary_major,\n",
      "        {{adapter.quote('IF_YOU_HAVE_SECONDARY_MAJORS_PLEASE_LIST_THEM_HERE_SEPARATED_BY_A_COMMA_') }} AS secondary_majors,\n",
      "        {{adapter.quote('WHAT_FACTOR_INFLUENCES_YOUR_COURSE_SELECTION_THE_MOST_') }} AS why_attending,\n",
      "        {{adapter.quote('WHAT_IS_THE_5_DIGIT_ZIP_CODE_OF_YOUR_RESIDENCE_WHILE_ATTENDING_CLASSES_IF_YOU_ARE_NOT_SURE_CHECK_HERE_HTTPS_TOOLS_USPS_COM_ZIP_CODE_LOOKUP_HTM_BYADDRESS_') }} AS zip_code,\n",
      "        {{ adapter.quote('WHAT_IS_YOUR_AGE_') }} AS age,\n",
      "\t{{adapter.quote('ARE_YOU_A_RUNNER_CONSIDER_BOTH_RUNNING_ON_TREADMILL_AND_OUTDOORS_') }} AS runner,\n",
      "        {{adapter.quote('DO_YOU_CONSIDER_YOURSELF_A_PROCRASTINATOR_') }} AS procrastinator,\n",
      "        {{adapter.quote('HAVE_YOU_EVER_IN_YOUR_LIFE_HAD_A_PET_') }} AS owned_pet,\n",
      "\t{{adapter.quote('WHAT_IS_YOUR_FAVORITE_HOBBY_') }} AS favorite_hobby,\n",
      "\t{{adapter.quote('IF_YOU_HAD_AN_EXTRA_HOUR_IN_YOUR_DAY_HOW_WOULD_YOU_SPEND_IT_') }} AS leisure_activity,\n",
      "        {{adapter.quote('WHAT_IS_YOUR_FAVORITE_PIZZA_TOPPING_') }} AS favorite_pizzatopping,\n",
      "        {{adapter.quote('WOULD_YOU_DESCRIBE_YOURSELF_AS_AN_EARLY_BIRD_OR_A_NIGHT_OWL_') }} AS earlybird_night_owl,\n",
      "        {{adapter.quote('_AIRBYTE_EXTRACTED_AT') }} AS airbyte_extractedat,\n",
      "        {{adapter.quote('_AIRBYTE_GENERATION_ID') }} AS airbyte_generationid,\n",
      "        {{adapter.quote('_AIRBYTE_META') }} AS airbyte_meta,\n",
      "        {{adapter.quote('_AIRBYTE_RAW_ID') }} AS airbyte_rawid\n",
      "    FROM raw_survey\n",
      ")\n",
      "\n",
      "SELECT *\n",
      "FROM survey_transformed\n",
      "\n"
     ]
    }
   ],
   "source": [
    "!cat ~/p4_data_pipeline/models/staging/transform_survey.sql"
   ]
  },
  {
   "cell_type": "markdown",
   "id": "479fa5a0-7b60-4702-b069-ffcaa129b265",
   "metadata": {},
   "source": [
    "# Section 2: Custom student dataset analysis "
   ]
  },
  {
   "cell_type": "code",
   "execution_count": 32,
   "id": "1c8a7632-6491-4809-994a-e3e5bae108eb",
   "metadata": {},
   "outputs": [],
   "source": [
    "import snowflake.connector\n",
    "import pandas as pd\n",
    "import matplotlib.pyplot as plt\n",
    "from sqlalchemy import create_engine"
   ]
  },
  {
   "cell_type": "code",
   "execution_count": 33,
   "id": "a4f92bfb-730c-4047-b239-288e3aee22a8",
   "metadata": {},
   "outputs": [],
   "source": [
    "# Read Snowflake password\n",
    "with open(\"snowflake_password\", \"r\") as file:\n",
    "    snowflake_password = file.read()\n",
    "    snowflake_password = snowflake_password.strip()\n"
   ]
  },
  {
   "cell_type": "code",
   "execution_count": 34,
   "id": "8f46e55c-7301-4e7b-8469-f472c4334a4b",
   "metadata": {},
   "outputs": [],
   "source": [
    "conn = snowflake.connector.connect(\n",
    "    user='LEKSHMI288', \n",
    "    password=snowflake_password, \n",
    "    account='NPDSFYV-GW12055' \n",
    ")\n",
    "\n",
    "cursor = conn.cursor()\n"
   ]
  },
  {
   "cell_type": "code",
   "execution_count": 61,
   "id": "a963790b-6a05-416b-bb13-8a290de3245b",
   "metadata": {},
   "outputs": [
    {
     "name": "stderr",
     "output_type": "stream",
     "text": [
      "/tmp/ipykernel_1278/2890692216.py:4: UserWarning: pandas only supports SQLAlchemy connectable (engine/connection) or database string URI or sqlite3 DBAPI2 connection. Other DBAPI2 objects are not tested. Please consider using SQLAlchemy.\n",
      "  df = pd.read_sql(\"\"\"\n"
     ]
    },
    {
     "data": {
      "text/html": [
       "<div>\n",
       "<style scoped>\n",
       "    .dataframe tbody tr th:only-of-type {\n",
       "        vertical-align: middle;\n",
       "    }\n",
       "\n",
       "    .dataframe tbody tr th {\n",
       "        vertical-align: top;\n",
       "    }\n",
       "\n",
       "    .dataframe thead th {\n",
       "        text-align: right;\n",
       "    }\n",
       "</style>\n",
       "<table border=\"1\" class=\"dataframe\">\n",
       "  <thead>\n",
       "    <tr style=\"text-align: right;\">\n",
       "      <th></th>\n",
       "      <th>TIMESTAMP</th>\n",
       "      <th>EMAIL</th>\n",
       "      <th>CURRENT_STANDING</th>\n",
       "      <th>PRIMARY_MAJOR</th>\n",
       "      <th>SECONDARY_MAJORS</th>\n",
       "      <th>WHY_ATTENDING</th>\n",
       "      <th>ZIP_CODE</th>\n",
       "      <th>AGE</th>\n",
       "      <th>RUNNER</th>\n",
       "      <th>PROCRASTINATOR</th>\n",
       "      <th>OWNED_PET</th>\n",
       "      <th>FAVORITE_HOBBY</th>\n",
       "      <th>LEISURE_ACTIVITY</th>\n",
       "      <th>FAVORITE_PIZZATOPPING</th>\n",
       "      <th>EARLYBIRD_NIGHT_OWL</th>\n",
       "      <th>AIRBYTE_EXTRACTEDAT</th>\n",
       "      <th>AIRBYTE_GENERATIONID</th>\n",
       "      <th>AIRBYTE_META</th>\n",
       "      <th>AIRBYTE_RAWID</th>\n",
       "    </tr>\n",
       "  </thead>\n",
       "  <tbody>\n",
       "    <tr>\n",
       "      <th>0</th>\n",
       "      <td>3/19/2025 13:29:38</td>\n",
       "      <td>igallucci@wisc.edu</td>\n",
       "      <td>Senior</td>\n",
       "      <td>Data Science</td>\n",
       "      <td>None</td>\n",
       "      <td>Interest in the subject</td>\n",
       "      <td>53703</td>\n",
       "      <td>22</td>\n",
       "      <td>No</td>\n",
       "      <td>Maybe</td>\n",
       "      <td>Yes</td>\n",
       "      <td>Watching Movies</td>\n",
       "      <td>Working on a hobby</td>\n",
       "      <td>none (just cheese)</td>\n",
       "      <td>no preference</td>\n",
       "      <td>2025-04-04 00:20:48.003000+00:00</td>\n",
       "      <td>4</td>\n",
       "      <td>{\\n  \"changes\": [],\\n  \"sync_id\": 32527220\\n}</td>\n",
       "      <td>49e8df7e-f176-4fdb-8dbe-46cce94850e0</td>\n",
       "    </tr>\n",
       "    <tr>\n",
       "      <th>1</th>\n",
       "      <td>3/19/2025 13:29:54</td>\n",
       "      <td>jwcramer2@wisc.edu</td>\n",
       "      <td>Senior</td>\n",
       "      <td>Data Science</td>\n",
       "      <td>None</td>\n",
       "      <td>Career relevance</td>\n",
       "      <td>53726</td>\n",
       "      <td>21</td>\n",
       "      <td>No</td>\n",
       "      <td>No</td>\n",
       "      <td>Yes</td>\n",
       "      <td>Playing the piano.</td>\n",
       "      <td>Working on a hobby</td>\n",
       "      <td>basil/spinach</td>\n",
       "      <td>night owl</td>\n",
       "      <td>2025-04-04 00:20:48.003000+00:00</td>\n",
       "      <td>4</td>\n",
       "      <td>{\\n  \"changes\": [],\\n  \"sync_id\": 32527220\\n}</td>\n",
       "      <td>f0b617e0-7bb6-4e28-965b-fd0959410c9b</td>\n",
       "    </tr>\n",
       "    <tr>\n",
       "      <th>2</th>\n",
       "      <td>3/19/2025 13:30:35</td>\n",
       "      <td>jzhang2752@wisc.edu</td>\n",
       "      <td>Sophomore</td>\n",
       "      <td>Data Science</td>\n",
       "      <td>Statistics</td>\n",
       "      <td>Graduation requirements</td>\n",
       "      <td>53706</td>\n",
       "      <td>20</td>\n",
       "      <td>No</td>\n",
       "      <td>Yes</td>\n",
       "      <td>Yes</td>\n",
       "      <td>Dance</td>\n",
       "      <td>Sleeping</td>\n",
       "      <td>pepperoni</td>\n",
       "      <td>night owl</td>\n",
       "      <td>2025-04-04 00:20:48.004000+00:00</td>\n",
       "      <td>4</td>\n",
       "      <td>{\\n  \"changes\": [],\\n  \"sync_id\": 32527220\\n}</td>\n",
       "      <td>d499f4ca-f15d-4a0c-a7c7-b99f5a0e702e</td>\n",
       "    </tr>\n",
       "    <tr>\n",
       "      <th>3</th>\n",
       "      <td>3/19/2025 13:29:05</td>\n",
       "      <td>entackett@wisc.edu</td>\n",
       "      <td>Senior</td>\n",
       "      <td>Mathematics/AMEP</td>\n",
       "      <td>None</td>\n",
       "      <td>Career relevance</td>\n",
       "      <td>53715</td>\n",
       "      <td>20</td>\n",
       "      <td>No</td>\n",
       "      <td>Maybe</td>\n",
       "      <td>No</td>\n",
       "      <td>Learning mathematics in my free time</td>\n",
       "      <td>Sleeping</td>\n",
       "      <td>pepperoni</td>\n",
       "      <td>night owl</td>\n",
       "      <td>2025-04-04 00:20:48.003000+00:00</td>\n",
       "      <td>4</td>\n",
       "      <td>{\\n  \"changes\": [],\\n  \"sync_id\": 32527220\\n}</td>\n",
       "      <td>05b587b3-b9fc-4151-a460-98967e3d8c69</td>\n",
       "    </tr>\n",
       "    <tr>\n",
       "      <th>4</th>\n",
       "      <td>3/21/2025 11:17:35</td>\n",
       "      <td>snegus@wisc.edu</td>\n",
       "      <td>Junior</td>\n",
       "      <td>Data Science</td>\n",
       "      <td>Digital Media Analytics</td>\n",
       "      <td>Interest in the subject</td>\n",
       "      <td>53703</td>\n",
       "      <td>21</td>\n",
       "      <td>Yes</td>\n",
       "      <td>Maybe</td>\n",
       "      <td>Yes</td>\n",
       "      <td>Downhill skiing</td>\n",
       "      <td>Working on a hobby</td>\n",
       "      <td>mushroom</td>\n",
       "      <td>night owl</td>\n",
       "      <td>2025-04-04 00:20:48.010000+00:00</td>\n",
       "      <td>4</td>\n",
       "      <td>{\\n  \"changes\": [],\\n  \"sync_id\": 32527220\\n}</td>\n",
       "      <td>2dc00efb-c5c0-4f20-8bb4-92abdde5f100</td>\n",
       "    </tr>\n",
       "    <tr>\n",
       "      <th>...</th>\n",
       "      <td>...</td>\n",
       "      <td>...</td>\n",
       "      <td>...</td>\n",
       "      <td>...</td>\n",
       "      <td>...</td>\n",
       "      <td>...</td>\n",
       "      <td>...</td>\n",
       "      <td>...</td>\n",
       "      <td>...</td>\n",
       "      <td>...</td>\n",
       "      <td>...</td>\n",
       "      <td>...</td>\n",
       "      <td>...</td>\n",
       "      <td>...</td>\n",
       "      <td>...</td>\n",
       "      <td>...</td>\n",
       "      <td>...</td>\n",
       "      <td>...</td>\n",
       "      <td>...</td>\n",
       "    </tr>\n",
       "    <tr>\n",
       "      <th>154</th>\n",
       "      <td>3/19/2025 13:43:49</td>\n",
       "      <td>epajanustan@wisc.edu</td>\n",
       "      <td>Sophomore</td>\n",
       "      <td>Data Science</td>\n",
       "      <td>None</td>\n",
       "      <td>Career relevance</td>\n",
       "      <td>53715</td>\n",
       "      <td>20</td>\n",
       "      <td>No</td>\n",
       "      <td>Yes</td>\n",
       "      <td>Yes</td>\n",
       "      <td>Sports</td>\n",
       "      <td>Sleeping</td>\n",
       "      <td>pepperoni</td>\n",
       "      <td>night owl</td>\n",
       "      <td>2025-04-04 00:20:48.004000+00:00</td>\n",
       "      <td>4</td>\n",
       "      <td>{\\n  \"changes\": [],\\n  \"sync_id\": 32527220\\n}</td>\n",
       "      <td>3293cffd-d319-4016-a2ba-280ae7da8f71</td>\n",
       "    </tr>\n",
       "    <tr>\n",
       "      <th>155</th>\n",
       "      <td>4/2/2025 2:28:40</td>\n",
       "      <td>bzhang536@wisc.edu</td>\n",
       "      <td>Senior</td>\n",
       "      <td>Computer Science</td>\n",
       "      <td>None</td>\n",
       "      <td>Course workload</td>\n",
       "      <td>53703</td>\n",
       "      <td>19</td>\n",
       "      <td>Yes</td>\n",
       "      <td>Yes</td>\n",
       "      <td>Yes</td>\n",
       "      <td>basketball</td>\n",
       "      <td>Sleeping</td>\n",
       "      <td>pineapple</td>\n",
       "      <td>night owl</td>\n",
       "      <td>2025-04-04 00:20:48.024000+00:00</td>\n",
       "      <td>4</td>\n",
       "      <td>{\\n  \"changes\": [],\\n  \"sync_id\": 32527220\\n}</td>\n",
       "      <td>2412fa8e-d23f-49e8-9453-1ad66c2f71e1</td>\n",
       "    </tr>\n",
       "    <tr>\n",
       "      <th>156</th>\n",
       "      <td>3/21/2025 13:56:04</td>\n",
       "      <td>zzhang2682@wisc.edu</td>\n",
       "      <td>Junior</td>\n",
       "      <td>Mathematics/AMEP</td>\n",
       "      <td>data science</td>\n",
       "      <td>Interest in the subject</td>\n",
       "      <td>53703</td>\n",
       "      <td>22</td>\n",
       "      <td>Yes</td>\n",
       "      <td>Yes</td>\n",
       "      <td>No</td>\n",
       "      <td>sports</td>\n",
       "      <td>Reading for fun</td>\n",
       "      <td>pineapple</td>\n",
       "      <td>night owl</td>\n",
       "      <td>2025-04-04 00:20:48.013000+00:00</td>\n",
       "      <td>4</td>\n",
       "      <td>{\\n  \"changes\": [],\\n  \"sync_id\": 32527220\\n}</td>\n",
       "      <td>31c0cf29-66e3-44a9-9c80-3c51b555ccd9</td>\n",
       "    </tr>\n",
       "    <tr>\n",
       "      <th>157</th>\n",
       "      <td>3/19/2025 18:30:04</td>\n",
       "      <td>txu223@wisc.edu</td>\n",
       "      <td>Senior</td>\n",
       "      <td>Computer Science</td>\n",
       "      <td>Data Science, Mathematics</td>\n",
       "      <td>Interest in the subject</td>\n",
       "      <td>53703</td>\n",
       "      <td>23</td>\n",
       "      <td>No</td>\n",
       "      <td>No</td>\n",
       "      <td>Yes</td>\n",
       "      <td>IDK</td>\n",
       "      <td>Working on a hobby</td>\n",
       "      <td>basil/spinach</td>\n",
       "      <td>night owl</td>\n",
       "      <td>2025-04-04 00:20:48.004000+00:00</td>\n",
       "      <td>4</td>\n",
       "      <td>{\\n  \"changes\": [],\\n  \"sync_id\": 32527220\\n}</td>\n",
       "      <td>dc19d7a4-7126-4e82-8308-1e2dd4872f0a</td>\n",
       "    </tr>\n",
       "    <tr>\n",
       "      <th>158</th>\n",
       "      <td>4/1/2025 12:32:41</td>\n",
       "      <td>appillai@wisc.edu</td>\n",
       "      <td>Senior</td>\n",
       "      <td>Computer Science</td>\n",
       "      <td>None</td>\n",
       "      <td>Interest in the subject</td>\n",
       "      <td>53706</td>\n",
       "      <td>20</td>\n",
       "      <td>Yes</td>\n",
       "      <td>No</td>\n",
       "      <td>No</td>\n",
       "      <td>Exercising outdoors</td>\n",
       "      <td>Working on a hobby</td>\n",
       "      <td>sausage</td>\n",
       "      <td>night owl</td>\n",
       "      <td>2025-04-04 00:20:48.019000+00:00</td>\n",
       "      <td>4</td>\n",
       "      <td>{\\n  \"changes\": [],\\n  \"sync_id\": 32527220\\n}</td>\n",
       "      <td>e267c670-9b17-43d5-ad37-eb6b579fead3</td>\n",
       "    </tr>\n",
       "  </tbody>\n",
       "</table>\n",
       "<p>159 rows × 19 columns</p>\n",
       "</div>"
      ],
      "text/plain": [
       "              TIMESTAMP                 EMAIL CURRENT_STANDING  \\\n",
       "0    3/19/2025 13:29:38    igallucci@wisc.edu           Senior   \n",
       "1    3/19/2025 13:29:54    jwcramer2@wisc.edu           Senior   \n",
       "2    3/19/2025 13:30:35   jzhang2752@wisc.edu        Sophomore   \n",
       "3    3/19/2025 13:29:05    entackett@wisc.edu           Senior   \n",
       "4    3/21/2025 11:17:35       snegus@wisc.edu           Junior   \n",
       "..                  ...                   ...              ...   \n",
       "154  3/19/2025 13:43:49  epajanustan@wisc.edu        Sophomore   \n",
       "155    4/2/2025 2:28:40    bzhang536@wisc.edu           Senior   \n",
       "156  3/21/2025 13:56:04   zzhang2682@wisc.edu           Junior   \n",
       "157  3/19/2025 18:30:04       txu223@wisc.edu           Senior   \n",
       "158   4/1/2025 12:32:41     appillai@wisc.edu           Senior   \n",
       "\n",
       "        PRIMARY_MAJOR           SECONDARY_MAJORS            WHY_ATTENDING  \\\n",
       "0        Data Science                       None  Interest in the subject   \n",
       "1        Data Science                       None         Career relevance   \n",
       "2        Data Science                 Statistics  Graduation requirements   \n",
       "3    Mathematics/AMEP                       None         Career relevance   \n",
       "4        Data Science    Digital Media Analytics  Interest in the subject   \n",
       "..                ...                        ...                      ...   \n",
       "154      Data Science                       None         Career relevance   \n",
       "155  Computer Science                       None          Course workload   \n",
       "156  Mathematics/AMEP               data science  Interest in the subject   \n",
       "157  Computer Science  Data Science, Mathematics  Interest in the subject   \n",
       "158  Computer Science                       None  Interest in the subject   \n",
       "\n",
       "    ZIP_CODE AGE RUNNER PROCRASTINATOR OWNED_PET  \\\n",
       "0      53703  22     No          Maybe       Yes   \n",
       "1      53726  21     No             No       Yes   \n",
       "2      53706  20     No            Yes       Yes   \n",
       "3      53715  20     No          Maybe        No   \n",
       "4      53703  21    Yes          Maybe       Yes   \n",
       "..       ...  ..    ...            ...       ...   \n",
       "154    53715  20     No            Yes       Yes   \n",
       "155    53703  19    Yes            Yes       Yes   \n",
       "156    53703  22    Yes            Yes        No   \n",
       "157    53703  23     No             No       Yes   \n",
       "158    53706  20    Yes             No        No   \n",
       "\n",
       "                           FAVORITE_HOBBY    LEISURE_ACTIVITY  \\\n",
       "0                         Watching Movies  Working on a hobby   \n",
       "1                      Playing the piano.  Working on a hobby   \n",
       "2                                   Dance            Sleeping   \n",
       "3    Learning mathematics in my free time            Sleeping   \n",
       "4                         Downhill skiing  Working on a hobby   \n",
       "..                                    ...                 ...   \n",
       "154                                Sports            Sleeping   \n",
       "155                            basketball            Sleeping   \n",
       "156                                sports     Reading for fun   \n",
       "157                                   IDK  Working on a hobby   \n",
       "158                   Exercising outdoors  Working on a hobby   \n",
       "\n",
       "    FAVORITE_PIZZATOPPING EARLYBIRD_NIGHT_OWL  \\\n",
       "0      none (just cheese)       no preference   \n",
       "1           basil/spinach           night owl   \n",
       "2               pepperoni           night owl   \n",
       "3               pepperoni           night owl   \n",
       "4                mushroom           night owl   \n",
       "..                    ...                 ...   \n",
       "154             pepperoni           night owl   \n",
       "155             pineapple           night owl   \n",
       "156             pineapple           night owl   \n",
       "157         basil/spinach           night owl   \n",
       "158               sausage           night owl   \n",
       "\n",
       "                 AIRBYTE_EXTRACTEDAT  AIRBYTE_GENERATIONID  \\\n",
       "0   2025-04-04 00:20:48.003000+00:00                     4   \n",
       "1   2025-04-04 00:20:48.003000+00:00                     4   \n",
       "2   2025-04-04 00:20:48.004000+00:00                     4   \n",
       "3   2025-04-04 00:20:48.003000+00:00                     4   \n",
       "4   2025-04-04 00:20:48.010000+00:00                     4   \n",
       "..                               ...                   ...   \n",
       "154 2025-04-04 00:20:48.004000+00:00                     4   \n",
       "155 2025-04-04 00:20:48.024000+00:00                     4   \n",
       "156 2025-04-04 00:20:48.013000+00:00                     4   \n",
       "157 2025-04-04 00:20:48.004000+00:00                     4   \n",
       "158 2025-04-04 00:20:48.019000+00:00                     4   \n",
       "\n",
       "                                      AIRBYTE_META  \\\n",
       "0    {\\n  \"changes\": [],\\n  \"sync_id\": 32527220\\n}   \n",
       "1    {\\n  \"changes\": [],\\n  \"sync_id\": 32527220\\n}   \n",
       "2    {\\n  \"changes\": [],\\n  \"sync_id\": 32527220\\n}   \n",
       "3    {\\n  \"changes\": [],\\n  \"sync_id\": 32527220\\n}   \n",
       "4    {\\n  \"changes\": [],\\n  \"sync_id\": 32527220\\n}   \n",
       "..                                             ...   \n",
       "154  {\\n  \"changes\": [],\\n  \"sync_id\": 32527220\\n}   \n",
       "155  {\\n  \"changes\": [],\\n  \"sync_id\": 32527220\\n}   \n",
       "156  {\\n  \"changes\": [],\\n  \"sync_id\": 32527220\\n}   \n",
       "157  {\\n  \"changes\": [],\\n  \"sync_id\": 32527220\\n}   \n",
       "158  {\\n  \"changes\": [],\\n  \"sync_id\": 32527220\\n}   \n",
       "\n",
       "                            AIRBYTE_RAWID  \n",
       "0    49e8df7e-f176-4fdb-8dbe-46cce94850e0  \n",
       "1    f0b617e0-7bb6-4e28-965b-fd0959410c9b  \n",
       "2    d499f4ca-f15d-4a0c-a7c7-b99f5a0e702e  \n",
       "3    05b587b3-b9fc-4151-a460-98967e3d8c69  \n",
       "4    2dc00efb-c5c0-4f20-8bb4-92abdde5f100  \n",
       "..                                    ...  \n",
       "154  3293cffd-d319-4016-a2ba-280ae7da8f71  \n",
       "155  2412fa8e-d23f-49e8-9453-1ad66c2f71e1  \n",
       "156  31c0cf29-66e3-44a9-9c80-3c51b555ccd9  \n",
       "157  dc19d7a4-7126-4e82-8308-1e2dd4872f0a  \n",
       "158  e267c670-9b17-43d5-ad37-eb6b579fead3  \n",
       "\n",
       "[159 rows x 19 columns]"
      ]
     },
     "execution_count": 61,
     "metadata": {},
     "output_type": "execute_result"
    }
   ],
   "source": [
    "cursor.execute(\"USE DATABASE SURVEY_DATABASE;\")\n",
    "cursor.execute(\"USE SCHEMA SURVEY_SCHEMA;\")\n",
    "\n",
    "df = pd.read_sql(\"\"\"\n",
    "SELECT * \n",
    "FROM TRANSFORM_SURVEY\n",
    "\"\"\", conn)\n",
    "df\n"
   ]
  },
  {
   "cell_type": "markdown",
   "id": "2c3c8b47-b3f3-42e2-b8ce-61a207cffb02",
   "metadata": {},
   "source": [
    "# What is the distribution of standing levels of students enrolled in CS639 ?  "
   ]
  },
  {
   "cell_type": "code",
   "execution_count": 125,
   "id": "b249327b-952e-4592-a028-2a1eb91faccd",
   "metadata": {},
   "outputs": [
    {
     "name": "stderr",
     "output_type": "stream",
     "text": [
      "/tmp/ipykernel_1278/3674573071.py:1: UserWarning: pandas only supports SQLAlchemy connectable (engine/connection) or database string URI or sqlite3 DBAPI2 connection. Other DBAPI2 objects are not tested. Please consider using SQLAlchemy.\n",
      "  df = pd.read_sql(\"\"\"\n"
     ]
    },
    {
     "data": {
      "image/png": "[encoded data removed]",
      "text/plain": [
       "<Figure size 640x480 with 1 Axes>"
      ]
     },
     "metadata": {},
     "output_type": "display_data"
    },
    {
     "data": {
      "text/html": [
       "<div>\n",
       "<style scoped>\n",
       "    .dataframe tbody tr th:only-of-type {\n",
       "        vertical-align: middle;\n",
       "    }\n",
       "\n",
       "    .dataframe tbody tr th {\n",
       "        vertical-align: top;\n",
       "    }\n",
       "\n",
       "    .dataframe thead th {\n",
       "        text-align: right;\n",
       "    }\n",
       "</style>\n",
       "<table border=\"1\" class=\"dataframe\">\n",
       "  <thead>\n",
       "    <tr style=\"text-align: right;\">\n",
       "      <th></th>\n",
       "      <th>CURRENT_STANDING</th>\n",
       "      <th>COUNTS</th>\n",
       "    </tr>\n",
       "  </thead>\n",
       "  <tbody>\n",
       "    <tr>\n",
       "      <th>0</th>\n",
       "      <td>Senior</td>\n",
       "      <td>67</td>\n",
       "    </tr>\n",
       "    <tr>\n",
       "      <th>1</th>\n",
       "      <td>Sophomore</td>\n",
       "      <td>23</td>\n",
       "    </tr>\n",
       "    <tr>\n",
       "      <th>2</th>\n",
       "      <td>Junior</td>\n",
       "      <td>50</td>\n",
       "    </tr>\n",
       "    <tr>\n",
       "      <th>3</th>\n",
       "      <td>Grad</td>\n",
       "      <td>19</td>\n",
       "    </tr>\n",
       "  </tbody>\n",
       "</table>\n",
       "</div>"
      ],
      "text/plain": [
       "  CURRENT_STANDING  COUNTS\n",
       "0           Senior      67\n",
       "1        Sophomore      23\n",
       "2           Junior      50\n",
       "3             Grad      19"
      ]
     },
     "execution_count": 125,
     "metadata": {},
     "output_type": "execute_result"
    }
   ],
   "source": [
    "\n",
    "df = pd.read_sql(\"\"\"\n",
    "SELECT CURRENT_STANDING, COUNT(*) AS COUNTS FROM TRANSFORM_SURVEY\n",
    "GROUP BY CURRENT_STANDING\n",
    "\"\"\", conn)\n",
    "plt.pie(df['COUNTS'], labels=df['CURRENT_STANDING'], autopct='%1.1f%%')\n",
    "plt.show()\n",
    "df"
   ]
  },
  {
   "cell_type": "markdown",
   "id": "3a46ea4c-6f73-48a3-a258-4e5691770eb3",
   "metadata": {},
   "source": [
    "Most of the class consists of Seniors and Juniors, making up over 70% of the students. Sophomores are about 14.5% and Graduate students make up around 12% of the class, indicating relatively lower participation from the graduate cohort.\n"
   ]
  },
  {
   "cell_type": "markdown",
   "id": "91a6dbb2-856a-458a-a6ea-b12c981d568c",
   "metadata": {},
   "source": [
    "#  How many senior students in the class are majoring in Data Science, either as their primary or secondary major?\n"
   ]
  },
  {
   "cell_type": "code",
   "execution_count": 126,
   "id": "5d89b757-9f93-4075-a42b-8f71d78192db",
   "metadata": {},
   "outputs": [
    {
     "name": "stderr",
     "output_type": "stream",
     "text": [
      "/tmp/ipykernel_1278/2176950.py:1: UserWarning: pandas only supports SQLAlchemy connectable (engine/connection) or database string URI or sqlite3 DBAPI2 connection. Other DBAPI2 objects are not tested. Please consider using SQLAlchemy.\n",
      "  df = pd.read_sql(\"\"\"\n"
     ]
    },
    {
     "data": {
      "text/html": [
       "<div>\n",
       "<style scoped>\n",
       "    .dataframe tbody tr th:only-of-type {\n",
       "        vertical-align: middle;\n",
       "    }\n",
       "\n",
       "    .dataframe tbody tr th {\n",
       "        vertical-align: top;\n",
       "    }\n",
       "\n",
       "    .dataframe thead th {\n",
       "        text-align: right;\n",
       "    }\n",
       "</style>\n",
       "<table border=\"1\" class=\"dataframe\">\n",
       "  <thead>\n",
       "    <tr style=\"text-align: right;\">\n",
       "      <th></th>\n",
       "      <th>COUNTS</th>\n",
       "    </tr>\n",
       "  </thead>\n",
       "  <tbody>\n",
       "    <tr>\n",
       "      <th>0</th>\n",
       "      <td>37</td>\n",
       "    </tr>\n",
       "  </tbody>\n",
       "</table>\n",
       "</div>"
      ],
      "text/plain": [
       "   COUNTS\n",
       "0      37"
      ]
     },
     "execution_count": 126,
     "metadata": {},
     "output_type": "execute_result"
    }
   ],
   "source": [
    "\n",
    "df = pd.read_sql(\"\"\"\n",
    "SELECT COUNT(*) AS COUNTS FROM TRANSFORM_SURVEY\n",
    "WHERE CURRENT_STANDING ='Senior' AND (PRIMARY_MAJOR ='Data Science' OR SECONDARY_MAJORS LIKE '%Data Science%')\n",
    "\"\"\", conn)\n",
    "df"
   ]
  },
  {
   "cell_type": "markdown",
   "id": "f9c67853-b6ac-4d02-9025-cf5119c03063",
   "metadata": {},
   "source": [
    "#  Which current standing class has the highest proportion of students who likes to sleep during their leisure time?"
   ]
  },
  {
   "cell_type": "code",
   "execution_count": 200,
   "id": "732ea75f-1e4d-4928-9d52-209138a7d031",
   "metadata": {},
   "outputs": [
    {
     "name": "stderr",
     "output_type": "stream",
     "text": [
      "/tmp/ipykernel_1278/4068917890.py:1: UserWarning: pandas only supports SQLAlchemy connectable (engine/connection) or database string URI or sqlite3 DBAPI2 connection. Other DBAPI2 objects are not tested. Please consider using SQLAlchemy.\n",
      "  df= pd.read_sql(\"\"\"\n"
     ]
    },
    {
     "data": {
      "text/html": [
       "<div>\n",
       "<style scoped>\n",
       "    .dataframe tbody tr th:only-of-type {\n",
       "        vertical-align: middle;\n",
       "    }\n",
       "\n",
       "    .dataframe tbody tr th {\n",
       "        vertical-align: top;\n",
       "    }\n",
       "\n",
       "    .dataframe thead th {\n",
       "        text-align: right;\n",
       "    }\n",
       "</style>\n",
       "<table border=\"1\" class=\"dataframe\">\n",
       "  <thead>\n",
       "    <tr style=\"text-align: right;\">\n",
       "      <th></th>\n",
       "      <th>CURRENT_STANDING</th>\n",
       "      <th>LEISURE_ACTIVITY</th>\n",
       "      <th>COUNTS</th>\n",
       "      <th>TOTAL_STUDENTS_PER_STANDING</th>\n",
       "      <th>PROPORTION</th>\n",
       "    </tr>\n",
       "  </thead>\n",
       "  <tbody>\n",
       "    <tr>\n",
       "      <th>0</th>\n",
       "      <td>Sophomore</td>\n",
       "      <td>Sleeping</td>\n",
       "      <td>9</td>\n",
       "      <td>23</td>\n",
       "      <td>0.391304</td>\n",
       "    </tr>\n",
       "    <tr>\n",
       "      <th>1</th>\n",
       "      <td>Grad</td>\n",
       "      <td>Sleeping</td>\n",
       "      <td>6</td>\n",
       "      <td>19</td>\n",
       "      <td>0.315789</td>\n",
       "    </tr>\n",
       "    <tr>\n",
       "      <th>2</th>\n",
       "      <td>Junior</td>\n",
       "      <td>Sleeping</td>\n",
       "      <td>14</td>\n",
       "      <td>50</td>\n",
       "      <td>0.280000</td>\n",
       "    </tr>\n",
       "    <tr>\n",
       "      <th>3</th>\n",
       "      <td>Senior</td>\n",
       "      <td>Sleeping</td>\n",
       "      <td>14</td>\n",
       "      <td>67</td>\n",
       "      <td>0.208955</td>\n",
       "    </tr>\n",
       "  </tbody>\n",
       "</table>\n",
       "</div>"
      ],
      "text/plain": [
       "  CURRENT_STANDING LEISURE_ACTIVITY  COUNTS  TOTAL_STUDENTS_PER_STANDING  \\\n",
       "0        Sophomore         Sleeping       9                           23   \n",
       "1             Grad         Sleeping       6                           19   \n",
       "2           Junior         Sleeping      14                           50   \n",
       "3           Senior         Sleeping      14                           67   \n",
       "\n",
       "   PROPORTION  \n",
       "0    0.391304  \n",
       "1    0.315789  \n",
       "2    0.280000  \n",
       "3    0.208955  "
      ]
     },
     "execution_count": 200,
     "metadata": {},
     "output_type": "execute_result"
    }
   ],
   "source": [
    "\n",
    "df= pd.read_sql(\"\"\"\n",
    "SELECT CURRENT_STANDING, LEISURE_ACTIVITY, \n",
    "COUNT(*) AS Counts,(SELECT COUNT(*) FROM TRANSFORM_SURVEY\n",
    "WHERE CURRENT_STANDING = SLEEPTABLE.CURRENT_STANDING) AS TOTAL_STUDENTS_PER_STANDING,COUNT(*)/(SELECT COUNT(*) FROM TRANSFORM_SURVEY\n",
    "WHERE CURRENT_STANDING = SLEEPTABLE.CURRENT_STANDING) AS PROPORTION\n",
    "FROM TRANSFORM_SURVEY AS SLEEPTABLE\n",
    "WHERE LEISURE_ACTIVITY='Sleeping'\n",
    "GROUP BY CURRENT_STANDING,LEISURE_ACTIVITY\n",
    "ORDER BY PROPORTION DESC\n",
    "\"\"\", conn)\n",
    "df\n"
   ]
  },
  {
   "cell_type": "markdown",
   "id": "7146e2c5-17f3-4c5f-aa2a-b3c611b29943",
   "metadata": {},
   "source": [
    "Around 40% of the sophomores enrolled likes to sleep in their leisure time. Whereas only around 21% seniors enrolled in this class likes to sleep during their leisure time. "
   ]
  },
  {
   "cell_type": "markdown",
   "id": "69db3f18-65eb-4f2a-88d2-bde182ae5184",
   "metadata": {},
   "source": [
    "# What is the favorite leisure activity of the student group that has the lowest proportion of students who like to sleep during their leisure time?"
   ]
  },
  {
   "cell_type": "code",
   "execution_count": 176,
   "id": "49a9bf87-1eb6-46be-85f3-4b3b54a3bcbb",
   "metadata": {},
   "outputs": [
    {
     "name": "stderr",
     "output_type": "stream",
     "text": [
      "/tmp/ipykernel_1278/3397698743.py:3: UserWarning: pandas only supports SQLAlchemy connectable (engine/connection) or database string URI or sqlite3 DBAPI2 connection. Other DBAPI2 objects are not tested. Please consider using SQLAlchemy.\n",
      "  df = pd.read_sql(\"\"\"\n"
     ]
    },
    {
     "data": {
      "image/png": "[encoded data removed]",
      "text/plain": [
       "<Figure size 640x480 with 1 Axes>"
      ]
     },
     "metadata": {},
     "output_type": "display_data"
    },
    {
     "data": {
      "text/html": [
       "<div>\n",
       "<style scoped>\n",
       "    .dataframe tbody tr th:only-of-type {\n",
       "        vertical-align: middle;\n",
       "    }\n",
       "\n",
       "    .dataframe tbody tr th {\n",
       "        vertical-align: top;\n",
       "    }\n",
       "\n",
       "    .dataframe thead th {\n",
       "        text-align: right;\n",
       "    }\n",
       "</style>\n",
       "<table border=\"1\" class=\"dataframe\">\n",
       "  <thead>\n",
       "    <tr style=\"text-align: right;\">\n",
       "      <th></th>\n",
       "      <th>LEISURE_ACTIVITY</th>\n",
       "      <th>COUNTS</th>\n",
       "    </tr>\n",
       "  </thead>\n",
       "  <tbody>\n",
       "    <tr>\n",
       "      <th>0</th>\n",
       "      <td>Working on a hobby</td>\n",
       "      <td>25</td>\n",
       "    </tr>\n",
       "    <tr>\n",
       "      <th>1</th>\n",
       "      <td>Sleeping</td>\n",
       "      <td>14</td>\n",
       "    </tr>\n",
       "    <tr>\n",
       "      <th>2</th>\n",
       "      <td>Playing video games</td>\n",
       "      <td>8</td>\n",
       "    </tr>\n",
       "    <tr>\n",
       "      <th>3</th>\n",
       "      <td>Exercising</td>\n",
       "      <td>12</td>\n",
       "    </tr>\n",
       "    <tr>\n",
       "      <th>4</th>\n",
       "      <td>Reading for fun</td>\n",
       "      <td>8</td>\n",
       "    </tr>\n",
       "  </tbody>\n",
       "</table>\n",
       "</div>"
      ],
      "text/plain": [
       "      LEISURE_ACTIVITY  COUNTS\n",
       "0   Working on a hobby      25\n",
       "1             Sleeping      14\n",
       "2  Playing video games       8\n",
       "3           Exercising      12\n",
       "4      Reading for fun       8"
      ]
     },
     "execution_count": 176,
     "metadata": {},
     "output_type": "execute_result"
    }
   ],
   "source": [
    "# From Q12, this is seniors. \n",
    "\n",
    "df = pd.read_sql(\"\"\"\n",
    "SELECT LEISURE_ACTIVITY, COUNT(*) AS COUNTS FROM TRANSFORM_SURVEY\n",
    "WHERE CURRENT_STANDING ='Senior'\n",
    "GROUP BY LEISURE_ACTIVITY\n",
    "\"\"\", conn)\n",
    "counts=df['COUNTS']\n",
    "explode = [0.1 if count == max(counts) else 0 for count in counts]\n",
    "plt.pie(df['COUNTS'], labels=df['LEISURE_ACTIVITY'], autopct='%1.1f%%',explode=explode)\n",
    "plt.show()\n",
    "df"
   ]
  },
  {
   "cell_type": "markdown",
   "id": "78d3e851-d144-4bea-a80f-1da5bf403fa1",
   "metadata": {},
   "source": [
    "# What proportion of  runners are procrastinators? Any interesting correlation with running habits and procrastination?"
   ]
  },
  {
   "cell_type": "code",
   "execution_count": 196,
   "id": "61cbd2ce-c00b-4e58-9afd-610e17f29c10",
   "metadata": {},
   "outputs": [
    {
     "name": "stderr",
     "output_type": "stream",
     "text": [
      "/tmp/ipykernel_1278/182126907.py:1: UserWarning: pandas only supports SQLAlchemy connectable (engine/connection) or database string URI or sqlite3 DBAPI2 connection. Other DBAPI2 objects are not tested. Please consider using SQLAlchemy.\n",
      "  df = pd.read_sql(\"\"\"\n"
     ]
    },
    {
     "data": {
      "text/html": [
       "<div>\n",
       "<style scoped>\n",
       "    .dataframe tbody tr th:only-of-type {\n",
       "        vertical-align: middle;\n",
       "    }\n",
       "\n",
       "    .dataframe tbody tr th {\n",
       "        vertical-align: top;\n",
       "    }\n",
       "\n",
       "    .dataframe thead th {\n",
       "        text-align: right;\n",
       "    }\n",
       "</style>\n",
       "<table border=\"1\" class=\"dataframe\">\n",
       "  <thead>\n",
       "    <tr style=\"text-align: right;\">\n",
       "      <th></th>\n",
       "      <th>PROCRASTINATOR</th>\n",
       "      <th>NUMBER_OF_STUDENTS</th>\n",
       "      <th>PROPORTION</th>\n",
       "    </tr>\n",
       "  </thead>\n",
       "  <tbody>\n",
       "    <tr>\n",
       "      <th>0</th>\n",
       "      <td>Yes</td>\n",
       "      <td>28</td>\n",
       "      <td>0.466667</td>\n",
       "    </tr>\n",
       "    <tr>\n",
       "      <th>1</th>\n",
       "      <td>Maybe</td>\n",
       "      <td>17</td>\n",
       "      <td>0.283333</td>\n",
       "    </tr>\n",
       "    <tr>\n",
       "      <th>2</th>\n",
       "      <td>No</td>\n",
       "      <td>15</td>\n",
       "      <td>0.250000</td>\n",
       "    </tr>\n",
       "  </tbody>\n",
       "</table>\n",
       "</div>"
      ],
      "text/plain": [
       "  PROCRASTINATOR  NUMBER_OF_STUDENTS  PROPORTION\n",
       "0            Yes                  28    0.466667\n",
       "1          Maybe                  17    0.283333\n",
       "2             No                  15    0.250000"
      ]
     },
     "execution_count": 196,
     "metadata": {},
     "output_type": "execute_result"
    }
   ],
   "source": [
    "\n",
    "df = pd.read_sql(\"\"\"\n",
    "SELECT PROCRASTINATOR, COUNT(*) AS NUMBER_OF_STUDENTS, \n",
    "COUNT(*)/(SELECT COUNT(*) FROM TRANSFORM_SURVEY WHERE RUNNER='Yes') AS PROPORTION\n",
    "FROM TRANSFORM_SURVEY\n",
    "WHERE RUNNER='Yes'\n",
    "GROUP BY RUNNER, PROCRASTINATOR\n",
    "ORDER BY PROPORTION DESC\n",
    "\"\"\", conn)\n",
    "\n",
    "df\n"
   ]
  },
  {
   "cell_type": "markdown",
   "id": "65d6437b-b572-47d2-af12-3d57ad6c9d40",
   "metadata": {},
   "source": [
    "47% of runners are procrastinators. \n",
    "\n",
    "To know if there are any interesting correlation, we can modify the code to include those who don't run."
   ]
  },
  {
   "cell_type": "code",
   "execution_count": 231,
   "id": "0527db1e-0004-4ce5-82a3-88d5606ae316",
   "metadata": {},
   "outputs": [
    {
     "name": "stderr",
     "output_type": "stream",
     "text": [
      "/tmp/ipykernel_1278/3283296288.py:1: UserWarning: pandas only supports SQLAlchemy connectable (engine/connection) or database string URI or sqlite3 DBAPI2 connection. Other DBAPI2 objects are not tested. Please consider using SQLAlchemy.\n",
      "  df = pd.read_sql(\"\"\"\n"
     ]
    },
    {
     "data": {
      "image/png": "[encoded data removed]",
      "text/plain": [
       "<Figure size 640x480 with 1 Axes>"
      ]
     },
     "metadata": {},
     "output_type": "display_data"
    },
    {
     "data": {
      "text/html": [
       "<div>\n",
       "<style scoped>\n",
       "    .dataframe tbody tr th:only-of-type {\n",
       "        vertical-align: middle;\n",
       "    }\n",
       "\n",
       "    .dataframe tbody tr th {\n",
       "        vertical-align: top;\n",
       "    }\n",
       "\n",
       "    .dataframe thead th {\n",
       "        text-align: right;\n",
       "    }\n",
       "</style>\n",
       "<table border=\"1\" class=\"dataframe\">\n",
       "  <thead>\n",
       "    <tr style=\"text-align: right;\">\n",
       "      <th></th>\n",
       "      <th>RUNNER</th>\n",
       "      <th>PROCRASTINATOR</th>\n",
       "      <th>COUNTS</th>\n",
       "      <th>STUDENTS_IN_EACH_RUNNING_CAT</th>\n",
       "      <th>PROPORTION</th>\n",
       "    </tr>\n",
       "  </thead>\n",
       "  <tbody>\n",
       "    <tr>\n",
       "      <th>0</th>\n",
       "      <td>No</td>\n",
       "      <td>Yes</td>\n",
       "      <td>62</td>\n",
       "      <td>99</td>\n",
       "      <td>0.626263</td>\n",
       "    </tr>\n",
       "    <tr>\n",
       "      <th>1</th>\n",
       "      <td>Yes</td>\n",
       "      <td>Yes</td>\n",
       "      <td>28</td>\n",
       "      <td>60</td>\n",
       "      <td>0.466667</td>\n",
       "    </tr>\n",
       "    <tr>\n",
       "      <th>2</th>\n",
       "      <td>Yes</td>\n",
       "      <td>Maybe</td>\n",
       "      <td>17</td>\n",
       "      <td>60</td>\n",
       "      <td>0.283333</td>\n",
       "    </tr>\n",
       "    <tr>\n",
       "      <th>3</th>\n",
       "      <td>Yes</td>\n",
       "      <td>No</td>\n",
       "      <td>15</td>\n",
       "      <td>60</td>\n",
       "      <td>0.250000</td>\n",
       "    </tr>\n",
       "    <tr>\n",
       "      <th>4</th>\n",
       "      <td>No</td>\n",
       "      <td>No</td>\n",
       "      <td>22</td>\n",
       "      <td>99</td>\n",
       "      <td>0.222222</td>\n",
       "    </tr>\n",
       "    <tr>\n",
       "      <th>5</th>\n",
       "      <td>No</td>\n",
       "      <td>Maybe</td>\n",
       "      <td>15</td>\n",
       "      <td>99</td>\n",
       "      <td>0.151515</td>\n",
       "    </tr>\n",
       "  </tbody>\n",
       "</table>\n",
       "</div>"
      ],
      "text/plain": [
       "  RUNNER PROCRASTINATOR  COUNTS  STUDENTS_IN_EACH_RUNNING_CAT  PROPORTION\n",
       "0     No            Yes      62                            99    0.626263\n",
       "1    Yes            Yes      28                            60    0.466667\n",
       "2    Yes          Maybe      17                            60    0.283333\n",
       "3    Yes             No      15                            60    0.250000\n",
       "4     No             No      22                            99    0.222222\n",
       "5     No          Maybe      15                            99    0.151515"
      ]
     },
     "execution_count": 231,
     "metadata": {},
     "output_type": "execute_result"
    }
   ],
   "source": [
    "df = pd.read_sql(\"\"\"\n",
    "SELECT RUNNER, PROCRASTINATOR, COUNT(*) AS COUNTS, (SELECT COUNT(*) FROM TRANSFORM_SURVEY WHERE RUNNER = RUNNERS.RUNNER) AS STUDENTS_IN_EACH_RUNNING_CAT,\n",
    "       COUNT(*) / (SELECT COUNT(*) FROM TRANSFORM_SURVEY WHERE RUNNER = RUNNERS.RUNNER) AS PROPORTION\n",
    "FROM TRANSFORM_SURVEY AS RUNNERS\n",
    "GROUP BY RUNNER, PROCRASTINATOR\n",
    "ORDER BY PROPORTION DESC\n",
    "\"\"\", conn)\n",
    "\n",
    "pivot = df.pivot(index='PROCRASTINATOR', columns='RUNNER', values='PROPORTION')\n",
    "pivot.plot(kind='bar')\n",
    "plt.title('Procrastination Patterns and Runner Status')\n",
    "plt.xlabel('Procrastinator')\n",
    "plt.ylabel('Proportion')\n",
    "plt.xticks(rotation=0)\n",
    "plt.show()\n",
    "df"
   ]
  },
  {
   "cell_type": "markdown",
   "id": "dbc5ee0b-f93d-4454-b626-2255298c6af3",
   "metadata": {},
   "source": [
    "We can see that among the students who procrastinate, 62% of them are non-runners as opposed to 46% being runners. Whereas among those who don't procrastinate, the proportion of runners and non-runners are more or less the same. Those who sometimes procrastinate are mostly runners.  \n",
    "\n",
    "Running requires quite a bit of discipline and planning, traits which could carry over into one's day to day routine. It makes sense why most procrastinators are non-runners. Those who answered \"maybe\" are mostly runners. They could be more selfaware and probably considered occasional slip-ups while answering the form. Those who don't procrastinate have roughly the same percentage of runners and non-runners, means there is no strong link between running and 'not procrastinating'."
   ]
  },
  {
   "cell_type": "markdown",
   "id": "4021e094-a4d0-4157-a207-cd4f233fb847",
   "metadata": {},
   "source": [
    "# Any interesting correlation with running habits and sleeping habits?"
   ]
  },
  {
   "cell_type": "code",
   "execution_count": 234,
   "id": "975d1376-0c4c-4e08-9933-548bfbd9d5ca",
   "metadata": {},
   "outputs": [
    {
     "name": "stderr",
     "output_type": "stream",
     "text": [
      "/tmp/ipykernel_1278/2018813862.py:3: UserWarning: pandas only supports SQLAlchemy connectable (engine/connection) or database string URI or sqlite3 DBAPI2 connection. Other DBAPI2 objects are not tested. Please consider using SQLAlchemy.\n",
      "  df = pd.read_sql(\"\"\"\n"
     ]
    },
    {
     "data": {
      "image/png": "[encoded data removed]",
      "text/plain": [
       "<Figure size 640x480 with 1 Axes>"
      ]
     },
     "metadata": {},
     "output_type": "display_data"
    },
    {
     "data": {
      "text/html": [
       "<div>\n",
       "<style scoped>\n",
       "    .dataframe tbody tr th:only-of-type {\n",
       "        vertical-align: middle;\n",
       "    }\n",
       "\n",
       "    .dataframe tbody tr th {\n",
       "        vertical-align: top;\n",
       "    }\n",
       "\n",
       "    .dataframe thead th {\n",
       "        text-align: right;\n",
       "    }\n",
       "</style>\n",
       "<table border=\"1\" class=\"dataframe\">\n",
       "  <thead>\n",
       "    <tr style=\"text-align: right;\">\n",
       "      <th></th>\n",
       "      <th>RUNNER</th>\n",
       "      <th>SLEEPING_HABITS</th>\n",
       "      <th>COUNTS</th>\n",
       "      <th>STUDENTS_IN_EACH_RUNNING_CAT</th>\n",
       "      <th>PROPORTION</th>\n",
       "    </tr>\n",
       "  </thead>\n",
       "  <tbody>\n",
       "    <tr>\n",
       "      <th>0</th>\n",
       "      <td>No</td>\n",
       "      <td>night owl</td>\n",
       "      <td>64</td>\n",
       "      <td>99</td>\n",
       "      <td>0.646465</td>\n",
       "    </tr>\n",
       "    <tr>\n",
       "      <th>1</th>\n",
       "      <td>Yes</td>\n",
       "      <td>night owl</td>\n",
       "      <td>37</td>\n",
       "      <td>60</td>\n",
       "      <td>0.616667</td>\n",
       "    </tr>\n",
       "    <tr>\n",
       "      <th>2</th>\n",
       "      <td>Yes</td>\n",
       "      <td>early bird</td>\n",
       "      <td>17</td>\n",
       "      <td>60</td>\n",
       "      <td>0.283333</td>\n",
       "    </tr>\n",
       "    <tr>\n",
       "      <th>3</th>\n",
       "      <td>No</td>\n",
       "      <td>no preference</td>\n",
       "      <td>19</td>\n",
       "      <td>99</td>\n",
       "      <td>0.191919</td>\n",
       "    </tr>\n",
       "    <tr>\n",
       "      <th>4</th>\n",
       "      <td>No</td>\n",
       "      <td>early bird</td>\n",
       "      <td>16</td>\n",
       "      <td>99</td>\n",
       "      <td>0.161616</td>\n",
       "    </tr>\n",
       "    <tr>\n",
       "      <th>5</th>\n",
       "      <td>Yes</td>\n",
       "      <td>no preference</td>\n",
       "      <td>6</td>\n",
       "      <td>60</td>\n",
       "      <td>0.100000</td>\n",
       "    </tr>\n",
       "  </tbody>\n",
       "</table>\n",
       "</div>"
      ],
      "text/plain": [
       "  RUNNER SLEEPING_HABITS  COUNTS  STUDENTS_IN_EACH_RUNNING_CAT  PROPORTION\n",
       "0     No       night owl      64                            99    0.646465\n",
       "1    Yes       night owl      37                            60    0.616667\n",
       "2    Yes      early bird      17                            60    0.283333\n",
       "3     No   no preference      19                            99    0.191919\n",
       "4     No      early bird      16                            99    0.161616\n",
       "5    Yes   no preference       6                            60    0.100000"
      ]
     },
     "execution_count": 234,
     "metadata": {},
     "output_type": "execute_result"
    }
   ],
   "source": [
    "\n",
    "df = pd.read_sql(\"\"\"\n",
    "SELECT RUNNER, EARLYBIRD_NIGHT_OWL AS SLEEPING_HABITS, COUNT(*) AS COUNTS, (SELECT COUNT(*) FROM TRANSFORM_SURVEY WHERE RUNNER = RUNNERS.RUNNER) AS STUDENTS_IN_EACH_RUNNING_CAT,\n",
    "       COUNT(*) / (SELECT COUNT(*) FROM TRANSFORM_SURVEY WHERE RUNNER = RUNNERS.RUNNER) AS PROPORTION\n",
    "FROM TRANSFORM_SURVEY AS RUNNERS\n",
    "GROUP BY RUNNER, SLEEPING_HABITS\n",
    "ORDER BY PROPORTION DESC\n",
    "\"\"\", conn)\n",
    "\n",
    "pivot = df.pivot(index='SLEEPING_HABITS', columns='RUNNER', values='PROPORTION')\n",
    "pivot.plot(kind='bar')\n",
    "plt.title('Sleeping habits and Runner Status')\n",
    "plt.xlabel('Sleeping habits')\n",
    "plt.ylabel('Proportion')\n",
    "plt.xticks(rotation=0)\n",
    "plt.show()\n",
    "df"
   ]
  },
  {
   "cell_type": "markdown",
   "id": "58ea848c-05cd-46fd-9372-28839692d8e2",
   "metadata": {},
   "source": [
    "Night owls dominate in the classroom regardless of their running status. However, most of the early birds are runners. Those who have no preference are dominated by non-runners. Could be pointing towards runners being more disciplined. "
   ]
  },
  {
   "cell_type": "markdown",
   "id": "f179c9e8-a599-4149-812c-10cbd084e36f",
   "metadata": {},
   "source": [
    "#  What is the most common reason for the students to take this class? How many students are attending this class due to its career relevance? "
   ]
  },
  {
   "cell_type": "code",
   "execution_count": 242,
   "id": "bb75c401-e204-449e-b747-6f92402821af",
   "metadata": {},
   "outputs": [
    {
     "name": "stderr",
     "output_type": "stream",
     "text": [
      "/tmp/ipykernel_1278/2652141807.py:1: UserWarning: pandas only supports SQLAlchemy connectable (engine/connection) or database string URI or sqlite3 DBAPI2 connection. Other DBAPI2 objects are not tested. Please consider using SQLAlchemy.\n",
      "  df = pd.read_sql(\"\"\"\n"
     ]
    },
    {
     "data": {
      "image/png": "[encoded data removed]",
      "text/plain": [
       "<Figure size 640x480 with 1 Axes>"
      ]
     },
     "metadata": {},
     "output_type": "display_data"
    },
    {
     "data": {
      "text/html": [
       "<div>\n",
       "<style scoped>\n",
       "    .dataframe tbody tr th:only-of-type {\n",
       "        vertical-align: middle;\n",
       "    }\n",
       "\n",
       "    .dataframe tbody tr th {\n",
       "        vertical-align: top;\n",
       "    }\n",
       "\n",
       "    .dataframe thead th {\n",
       "        text-align: right;\n",
       "    }\n",
       "</style>\n",
       "<table border=\"1\" class=\"dataframe\">\n",
       "  <thead>\n",
       "    <tr style=\"text-align: right;\">\n",
       "      <th></th>\n",
       "      <th>WHY_ATTENDING</th>\n",
       "      <th>COUNTS</th>\n",
       "    </tr>\n",
       "  </thead>\n",
       "  <tbody>\n",
       "    <tr>\n",
       "      <th>0</th>\n",
       "      <td>Interest in the subject</td>\n",
       "      <td>82</td>\n",
       "    </tr>\n",
       "    <tr>\n",
       "      <th>1</th>\n",
       "      <td>Career relevance</td>\n",
       "      <td>41</td>\n",
       "    </tr>\n",
       "    <tr>\n",
       "      <th>2</th>\n",
       "      <td>Graduation requirements</td>\n",
       "      <td>24</td>\n",
       "    </tr>\n",
       "    <tr>\n",
       "      <th>3</th>\n",
       "      <td>Course workload</td>\n",
       "      <td>6</td>\n",
       "    </tr>\n",
       "    <tr>\n",
       "      <th>4</th>\n",
       "      <td>Instructor reputation</td>\n",
       "      <td>6</td>\n",
       "    </tr>\n",
       "  </tbody>\n",
       "</table>\n",
       "</div>"
      ],
      "text/plain": [
       "             WHY_ATTENDING  COUNTS\n",
       "0  Interest in the subject      82\n",
       "1         Career relevance      41\n",
       "2  Graduation requirements      24\n",
       "3          Course workload       6\n",
       "4    Instructor reputation       6"
      ]
     },
     "execution_count": 242,
     "metadata": {},
     "output_type": "execute_result"
    }
   ],
   "source": [
    "df = pd.read_sql(\"\"\"\n",
    "SELECT WHY_ATTENDING,COUNT(*) AS COUNTS FROM TRANSFORM_SURVEY\n",
    "GROUP BY WHY_ATTENDING\n",
    "ORDER BY COUNTS DESC\n",
    "\"\"\", conn)\n",
    "counts=df['COUNTS']\n",
    "explode = [0.1 if count == max(counts) else 0 for count in counts]\n",
    "plt.pie(df['COUNTS'], labels=df['WHY_ATTENDING'], autopct='%1.1f%%',explode=explode)\n",
    "plt.show()\n",
    "df"
   ]
  },
  {
   "cell_type": "markdown",
   "id": "4e022866-246b-4c60-9261-f03501b50037",
   "metadata": {},
   "source": [
    "Around half of the class is taking CS639 due to interest in the subject. A quarter of the class is taking this course due to career relevance."
   ]
  },
  {
   "cell_type": "markdown",
   "id": "23b33419-7e97-479d-b4a4-4f62253a86d1",
   "metadata": {},
   "source": [
    "# Section 3: Stock and foreign exchange (fx) dataset analysis "
   ]
  },
  {
   "cell_type": "markdown",
   "id": "4537cb8f-7a83-4e78-81fd-9640f5b8bcb2",
   "metadata": {},
   "source": [
    "# Configure ~/.dbt/profiles.yml for STOCK_DB"
   ]
  },
  {
   "cell_type": "code",
   "execution_count": 36,
   "id": "714b2acb-2ba8-4489-bf8a-01b5148c2c69",
   "metadata": {},
   "outputs": [
    {
     "name": "stdout",
     "output_type": "stream",
     "text": [
      "p4_data_pipeline:\n",
      "  target: dev # default target; can be switched using --target option of dbt run\n",
      "  outputs:\n",
      "    dev:\n",
      "      type: snowflake\n",
      "      account: npdsfyv-gw12055   # Example: <account_name>.<region>.<cloud_provider>\n",
      "      user: LEKSHMI288\n",
      "      role: ACCOUNTADMIN\n",
      "      database: SURVEY_DATABASE \n",
      "      warehouse: P4_WAREHOUSE\n",
      "      schema: SURVEY_SCHEMA\n",
      "      threads: 10\n",
      "\n",
      "    stock_db:\n",
      "      type: snowflake\n",
      "      account: npdsfyv-gw12055  # Example: <account_name>.<region>.<cloud_provider>\n",
      "      user: LEKSHMI288\n",
      "      role: ACCOUNTADMIN\n",
      "      database: STOCKDB  # another database\n",
      "      warehouse: P4_WAREHOUSE\n",
      "      schema: STOCK_SCHEMA\n",
      "      threads: 10\n"
     ]
    }
   ],
   "source": [
    "!cat ~/.dbt/profiles.yml | grep -v 'password'"
   ]
  },
  {
   "cell_type": "markdown",
   "id": "dabdc28e-3f07-4095-bef6-f9e66bbfb800",
   "metadata": {},
   "source": [
    "# Update models/schema.yml file to include new sources for STOCK_DB tables "
   ]
  },
  {
   "cell_type": "code",
   "execution_count": 37,
   "id": "b24966cf-9b0c-40f6-8897-25f8c7b50294",
   "metadata": {},
   "outputs": [
    {
     "name": "stdout",
     "output_type": "stream",
     "text": [
      "version: 2\n",
      "\n",
      "sources:\n",
      "  - name: survey_data\n",
      "    database: SURVEY_DATABASE\n",
      "    schema: SURVEY_SCHEMA\n",
      "    tables:\n",
      "      - name: SURVEY\n",
      "      - name: TRADING_BOOKS\n",
      "      - name: WEIGHTS_TABLE\n",
      "\n",
      "  \n",
      "  - name: stock_by_day\n",
      "    database: STOCK_TRACKING_US_STOCK_PRICES_BY_DAY\n",
      "    schema: STOCK\n",
      "    tables:\n",
      "      - name: US_STOCK_METRICS\n",
      "\n",
      "  - name: fx_by_day\n",
      "    database: FOREX_TRACKING_CURRENCY_EXCHANGE_RATES_BY_DAY\n",
      "    schema: STOCK\n",
      "    tables:\n",
      "      - name: FOREX_METRICS\n",
      "\n"
     ]
    }
   ],
   "source": [
    "!cat ~/p4_data_pipeline/models/schema.yml"
   ]
  },
  {
   "cell_type": "markdown",
   "id": "77608b50-d7a8-4419-b2a8-94b8f1195f3c",
   "metadata": {},
   "source": [
    "# Create dbt_project.yml file in your dbt project directory --- p4_data_pipeline "
   ]
  },
  {
   "cell_type": "code",
   "execution_count": 38,
   "id": "eba5ced5-856a-4e37-b92b-c9ce93468ac5",
   "metadata": {},
   "outputs": [
    {
     "name": "stdout",
     "output_type": "stream",
     "text": [
      "\n",
      "# Name your project! Project names should contain only lowercase characters\n",
      "# and underscores. A good package name should reflect your organization's\n",
      "# name or the intended use of these models\n",
      "name: 'p4_data_pipeline'\n",
      "version: '1.0.0'\n",
      "\n",
      "# This setting configures which \"profile\" dbt uses for this project.\n",
      "profile: 'p4_data_pipeline'\n",
      "\n",
      "# These configurations specify where dbt should look for different types of files.\n",
      "# The `model-paths` config, for example, states that models in this project can be\n",
      "# found in the \"models/\" directory. You probably won't need to change these!\n",
      "model-paths: [\"models\"]\n",
      "analysis-paths: [\"analyses\"]\n",
      "test-paths: [\"tests\"]\n",
      "seed-paths: [\"seeds\"]\n",
      "macro-paths: [\"macros\"]\n",
      "snapshot-paths: [\"snapshots\"]\n",
      "\n",
      "clean-targets:         # directories to be removed by `dbt clean`\n",
      "  - \"target\"\n",
      "  - \"dbt_packages\"\n",
      "\n",
      "\n",
      "# Configuring models\n",
      "# Full documentation: https://docs.getdbt.com/docs/configuring-models\n",
      "\n",
      "\n",
      "models:\n",
      "  p4_data_pipeline:\n",
      "    # Config indicated by + and applies to all files under models/example/\n",
      "    staging:\n",
      "      +materialized: view\n",
      "      +warehouse: P4_WAREHOUSE\n",
      "    marts:\n",
      "      +materialized: table\n",
      "      +warehouse: P4_WAREHOUSE\n"
     ]
    }
   ],
   "source": [
    "!cat ~/p4_data_pipeline/dbt_project.yml"
   ]
  },
  {
   "cell_type": "markdown",
   "id": "69108d2d-f509-4ee3-af1f-7d5a2d58f1bc",
   "metadata": {},
   "source": [
    "# Creating staging tables for FX and Stock "
   ]
  },
  {
   "cell_type": "code",
   "execution_count": 39,
   "id": "40f8e4e8-f459-41d1-ae9c-64bcade1f945",
   "metadata": {},
   "outputs": [
    {
     "name": "stdout",
     "output_type": "stream",
     "text": [
      "\n",
      "SELECT DISTINCT TRADE_DATE,TICKER \n",
      "FROM {{ source('survey_data', 'TRADING_BOOKS') }}\n",
      "WHERE desk = 'FX Desk'\n"
     ]
    }
   ],
   "source": [
    "!cat ~/p4_data_pipeline/models/staging/staging_valid_fx_tickers.sql"
   ]
  },
  {
   "cell_type": "code",
   "execution_count": 40,
   "id": "90748cdb-6b30-4cc1-80be-34ff53713e02",
   "metadata": {},
   "outputs": [
    {
     "name": "stdout",
     "output_type": "stream",
     "text": [
      "SELECT DISTINCT TRADE_DATE, TICKER\n",
      "FROM {{ source('survey_data', 'TRADING_BOOKS') }}\n",
      "WHERE desk = 'Equity Desk'\n"
     ]
    }
   ],
   "source": [
    "!cat ~/p4_data_pipeline/models/staging/staging_valid_stock_tickers.sql"
   ]
  },
  {
   "cell_type": "code",
   "execution_count": 41,
   "id": "78f3dfca-a0b1-4e80-839c-ded3e1a5ac2e",
   "metadata": {},
   "outputs": [
    {
     "name": "stdout",
     "output_type": "stream",
     "text": [
      "SELECT RUN_DATE, CURRENCY_PAIR_NAME AS TICKER, OPEN,CLOSE,HIGH,LOW\n",
      "FROM {{source('fx_by_day','FOREX_METRICS')}} AS forex\n",
      "INNER JOIN {{ref(\"staging_valid_fx_tickers\")}} AS validtick \n",
      "ON forex.RUN_DATE=validtick.TRADE_DATE AND forex.CURRENCY_PAIR_NAME=validtick.TICKER\n"
     ]
    }
   ],
   "source": [
    "!cat ~/p4_data_pipeline/models/staging/staging_valid_fx_info.sql"
   ]
  },
  {
   "cell_type": "code",
   "execution_count": 42,
   "id": "41cf511b-5b85-4d0c-9574-04a71f438833",
   "metadata": {},
   "outputs": [
    {
     "name": "stdout",
     "output_type": "stream",
     "text": [
      "SELECT RUN_DATE, stock.TICKER, OPEN,CLOSE,HIGH,LOW\n",
      "FROM {{source('stock_by_day','US_STOCK_METRICS')}} AS stock\n",
      "INNER JOIN {{ref(\"staging_valid_stock_tickers\")}} AS validtick\n",
      "ON stock.RUN_DATE=validtick.TRADE_DATE AND stock.TICKER=validtick.TICKER\n"
     ]
    }
   ],
   "source": [
    "!cat ~/p4_data_pipeline/models/staging/staging_valid_stock_info.sql"
   ]
  },
  {
   "cell_type": "markdown",
   "id": "868b88d0-d00e-41ad-a0a1-db940415efae",
   "metadata": {},
   "source": [
    "# Create staging table for trading pairs"
   ]
  },
  {
   "cell_type": "code",
   "execution_count": 43,
   "id": "12d999dd-7d6c-443d-a273-6b4d254901ad",
   "metadata": {},
   "outputs": [
    {
     "name": "stdout",
     "output_type": "stream",
     "text": [
      "SELECT buytrading.TRADE_ID as Trade_id, buytrading.TRADE_DATE AS Trade_date, buytrading.TRADER_NAME,buytrading.Desk,\n",
      "buytrading.TICKER AS Ticker, buytrading.QUANTITY as Quantity_buy,buytrading.PRICE AS Price_buy, selltrading.QUANTITY as Quantity_sell, selltrading.PRICE AS Price_sell \n",
      "FROM {{ source('survey_data', 'TRADING_BOOKS')}} AS buytrading\n",
      "INNER JOIN {{ source('survey_data', 'TRADING_BOOKS')}} AS selltrading \n",
      "ON buytrading.TRADER_NAME=selltrading.TRADER_NAME AND\n",
      "buytrading.TRADE_DATE=selltrading.TRADE_DATE\n",
      "WHERE buytrading.TRADE_TYPE='BUY' AND selltrading.TRADE_TYPE='SELL'\n",
      "ORDER BY buytrading.TRADE_ID\n"
     ]
    }
   ],
   "source": [
    "!cat ~/p4_data_pipeline/models/staging/staging_buy_sell_joint.sql"
   ]
  },
  {
   "cell_type": "markdown",
   "id": "8208b020-4f50-4a1c-8d14-7129acb119f7",
   "metadata": {},
   "source": [
    "# Create a fact Table for trading data \n"
   ]
  },
  {
   "cell_type": "code",
   "execution_count": 44,
   "id": "b24fb6ee-b084-434f-84bf-08cbafa01b03",
   "metadata": {},
   "outputs": [
    {
     "name": "stdout",
     "output_type": "stream",
     "text": [
      "SELECT Trade_id, price_buy* quantity_buy AS Buy_money, price_sell* quantity_sell AS Sell_money,\n",
      "    (Price_sell* quantity_sell) - (Price_buy* quantity_buy) AS Profit\n",
      "FROM {{ref('staging_buy_sell_joint')}}\n",
      "ORDER BY Trade_id\n"
     ]
    }
   ],
   "source": [
    "!cat ~/p4_data_pipeline/models/marts/fact_tab_trading.sql"
   ]
  },
  {
   "cell_type": "markdown",
   "id": "48cdc9ef-40e8-4525-9fa0-6379f531506c",
   "metadata": {},
   "source": [
    "# Compute total profit by desk "
   ]
  },
  {
   "cell_type": "code",
   "execution_count": 247,
   "id": "9a967c42-6fa6-4780-93d4-81b3416eac14",
   "metadata": {},
   "outputs": [
    {
     "name": "stderr",
     "output_type": "stream",
     "text": [
      "/tmp/ipykernel_1278/403179944.py:1: UserWarning: pandas only supports SQLAlchemy connectable (engine/connection) or database string URI or sqlite3 DBAPI2 connection. Other DBAPI2 objects are not tested. Please consider using SQLAlchemy.\n",
      "  df = pd.read_sql(\"\"\"\n"
     ]
    },
    {
     "data": {
      "text/html": [
       "<div>\n",
       "<style scoped>\n",
       "    .dataframe tbody tr th:only-of-type {\n",
       "        vertical-align: middle;\n",
       "    }\n",
       "\n",
       "    .dataframe tbody tr th {\n",
       "        vertical-align: top;\n",
       "    }\n",
       "\n",
       "    .dataframe thead th {\n",
       "        text-align: right;\n",
       "    }\n",
       "</style>\n",
       "<table border=\"1\" class=\"dataframe\">\n",
       "  <thead>\n",
       "    <tr style=\"text-align: right;\">\n",
       "      <th></th>\n",
       "      <th>DESK</th>\n",
       "      <th>TOTAL_PROFIT</th>\n",
       "    </tr>\n",
       "  </thead>\n",
       "  <tbody>\n",
       "    <tr>\n",
       "      <th>0</th>\n",
       "      <td>Equity Desk</td>\n",
       "      <td>2718.75</td>\n",
       "    </tr>\n",
       "    <tr>\n",
       "      <th>1</th>\n",
       "      <td>FX Desk</td>\n",
       "      <td>5000.00</td>\n",
       "    </tr>\n",
       "  </tbody>\n",
       "</table>\n",
       "</div>"
      ],
      "text/plain": [
       "          DESK  TOTAL_PROFIT\n",
       "0  Equity Desk       2718.75\n",
       "1      FX Desk       5000.00"
      ]
     },
     "execution_count": 247,
     "metadata": {},
     "output_type": "execute_result"
    }
   ],
   "source": [
    "df = pd.read_sql(\"\"\"\n",
    "SELECT DESK, SUM(FACT_TAB_TRADING.PROFIT) AS total_profit\n",
    "FROM TRADING_BOOKS\n",
    "INNER JOIN FACT_TAB_TRADING ON TRADING_BOOKS.TRADE_ID = FACT_TAB_TRADING.TRADE_ID\n",
    "GROUP BY DESK\n",
    "\"\"\", conn)\n",
    "df\n"
   ]
  },
  {
   "cell_type": "markdown",
   "id": "09beb9ec-0b5c-4398-bfa6-7deb98feadd5",
   "metadata": {},
   "source": [
    "# Q25: Compute profit rate by desk"
   ]
  },
  {
   "cell_type": "code",
   "execution_count": 246,
   "id": "db345efe-8c15-4e20-8950-34f095a72554",
   "metadata": {},
   "outputs": [
    {
     "name": "stderr",
     "output_type": "stream",
     "text": [
      "/tmp/ipykernel_1278/806028314.py:1: UserWarning: pandas only supports SQLAlchemy connectable (engine/connection) or database string URI or sqlite3 DBAPI2 connection. Other DBAPI2 objects are not tested. Please consider using SQLAlchemy.\n",
      "  df = pd.read_sql(\"\"\"\n"
     ]
    },
    {
     "data": {
      "text/html": [
       "<div>\n",
       "<style scoped>\n",
       "    .dataframe tbody tr th:only-of-type {\n",
       "        vertical-align: middle;\n",
       "    }\n",
       "\n",
       "    .dataframe tbody tr th {\n",
       "        vertical-align: top;\n",
       "    }\n",
       "\n",
       "    .dataframe thead th {\n",
       "        text-align: right;\n",
       "    }\n",
       "</style>\n",
       "<table border=\"1\" class=\"dataframe\">\n",
       "  <thead>\n",
       "    <tr style=\"text-align: right;\">\n",
       "      <th></th>\n",
       "      <th>DESK</th>\n",
       "      <th>TOTAL_PROFIT_RATE</th>\n",
       "    </tr>\n",
       "  </thead>\n",
       "  <tbody>\n",
       "    <tr>\n",
       "      <th>0</th>\n",
       "      <td>Equity Desk</td>\n",
       "      <td>0.012701</td>\n",
       "    </tr>\n",
       "    <tr>\n",
       "      <th>1</th>\n",
       "      <td>FX Desk</td>\n",
       "      <td>0.006342</td>\n",
       "    </tr>\n",
       "  </tbody>\n",
       "</table>\n",
       "</div>"
      ],
      "text/plain": [
       "          DESK  TOTAL_PROFIT_RATE\n",
       "0  Equity Desk           0.012701\n",
       "1      FX Desk           0.006342"
      ]
     },
     "execution_count": 246,
     "metadata": {},
     "output_type": "execute_result"
    }
   ],
   "source": [
    "df = pd.read_sql(\"\"\"\n",
    "SELECT DESK, \n",
    "SUM(FACT_TAB_TRADING.SELL_MONEY - FACT_TAB_TRADING.BUY_MONEY)/NULLIF(SUM(FACT_TAB_TRADING.BUY_MONEY), 0) AS Total_profit_rate\n",
    "FROM TRADING_BOOKS\n",
    "INNER JOIN FACT_TAB_TRADING ON TRADING_BOOKS.TRADE_ID = FACT_TAB_TRADING.TRADE_ID\n",
    "GROUP BY DESK\n",
    "\"\"\", conn)\n",
    "\n",
    "df\n"
   ]
  },
  {
   "cell_type": "code",
   "execution_count": null,
   "id": "c8741b20-b48b-4d87-8a3a-0446bc28e991",
   "metadata": {},
   "outputs": [],
   "source": []
  }
 ],
 "metadata": {
  "kernelspec": {
   "display_name": "Python 3 (ipykernel)",
   "language": "python",
   "name": "python3"
  },
  "language_info": {
   "codemirror_mode": {
    "name": "ipython",
    "version": 3
   },
   "file_extension": ".py",
   "mimetype": "text/x-python",
   "name": "python",
   "nbconvert_exporter": "python",
   "pygments_lexer": "ipython3",
   "version": "3.8.5"
  }
 },
 "nbformat": 4,
 "nbformat_minor": 5
}
